{
 "cells": [
  {
   "cell_type": "code",
   "execution_count": 1,
   "id": "edcef608",
   "metadata": {},
   "outputs": [
    {
     "name": "stdout",
     "output_type": "stream",
     "text": [
      "(39292, 111) (19353, 111) (39292,) (19353,)\n"
     ]
    }
   ],
   "source": [
    "import pandas as pd\n",
    "from sklearn.model_selection import train_test_split\n",
    "dataframe = pd.read_csv('dataset_small.csv')\n",
    "data = dataframe.values\n",
    "X,y = data[:,:-1],data[:,-1]\n",
    "X_train,X_test,y_train,y_test = train_test_split(X,y,test_size = 0.33)\n",
    "print(X_train.shape,X_test.shape,y_train.shape,y_test.shape)"
   ]
  },
  {
   "cell_type": "code",
   "execution_count": 10,
   "id": "5e670973",
   "metadata": {},
   "outputs": [
    {
     "name": "stdout",
     "output_type": "stream",
     "text": [
      "MAE = 0.213\n",
      "Accuracy = 0.79\n"
     ]
    }
   ],
   "source": [
    "#Naive Bayes\n",
    "from sklearn.naive_bayes import BernoulliNB\n",
    "from sklearn.metrics import mean_absolute_error\n",
    "clf = BernoulliNB()\n",
    "clf.fit(X_train,y_train)\n",
    "yhat = clf.predict(X_test)\n",
    "mae = mean_absolute_error(y_test,yhat)\n",
    "print('MAE = %.3f' %mae)\n",
    "print('Accuracy = %.2f'%(1-mae))"
   ]
  },
  {
   "cell_type": "code",
   "execution_count": 13,
   "id": "8c344bee",
   "metadata": {},
   "outputs": [
    {
     "name": "stdout",
     "output_type": "stream",
     "text": [
      "MAE = 0.121\n",
      "Accuracy = 0.88\n"
     ]
    }
   ],
   "source": [
    "#Logistic Regression\n",
    "from sklearn.linear_model import LogisticRegression\n",
    "from sklearn.metrics import mean_absolute_error\n",
    "model = LogisticRegression(random_state=None,max_iter=10000)\n",
    "model.fit(X_train,y_train)\n",
    "yhat = model.predict(X_test)\n",
    "mae = mean_absolute_error(y_test,yhat)\n",
    "print('MAE = %.3f' %mae)\n",
    "print('Accuracy = %.2f'%(1-mae))"
   ]
  },
  {
   "cell_type": "code",
   "execution_count": 15,
   "id": "1f848b43",
   "metadata": {},
   "outputs": [
    {
     "name": "stdout",
     "output_type": "stream",
     "text": [
      "MAE = 0.161\n",
      "Accuracy = 0.84\n"
     ]
    }
   ],
   "source": [
    "#Random Forrest\n",
    "from sklearn.ensemble import RandomForestClassifier\n",
    "from sklearn.metrics import mean_absolute_error\n",
    "clf = RandomForestClassifier(max_depth = 3,random_state = 0)\n",
    "clf.fit(X_train,y_train)\n",
    "yhat = clf.predict(X_test)\n",
    "mae = mean_absolute_error(y_test,yhat)\n",
    "print('MAE = %.3f' %mae)\n",
    "print('Accuracy = %.2f'%(1-mae))"
   ]
  },
  {
   "cell_type": "code",
   "execution_count": 23,
   "id": "80b73dfd",
   "metadata": {},
   "outputs": [
    {
     "name": "stdout",
     "output_type": "stream",
     "text": [
      "MAE = 0.154\n",
      "Accuracy = 0.85\n"
     ]
    }
   ],
   "source": [
    "#Perceptron\n",
    "from sklearn.neural_network import MLPClassifier\n",
    "from sklearn.metrics import mean_absolute_error\n",
    "clf = MLPClassifier(random_state=1,max_iter=300)\n",
    "clf.fit(X_train,y_train)\n",
    "yhat = clf.predict(X_test)\n",
    "mae = mean_absolute_error(y_test,yhat)\n",
    "print('MAE = %.3f' %mae)\n",
    "print('Accuracy = %.2f'%(1-mae))"
   ]
  },
  {
   "cell_type": "code",
   "execution_count": null,
   "id": "a2888c2f",
   "metadata": {},
   "outputs": [],
   "source": [
    "from sklearn.svm import SVR\n",
    "from sklearn.pipeline import make_pipeline\n",
    "from sklearn.preprocessing import StandardScaler\n",
    "from sklearn.metrics import mean_absolute_error\n",
    "regr = make_pipeline(StandardScaler(),SVR(c=1.0,epsilon=0.2))\n",
    "regr.fit(X_train,y_train)\n",
    "yhat = regr.predict(X_test)\n",
    "mae = mean_absolute_error(y_test,yhat)\n",
    "print('MAE = %.3f' %mae)\n",
    "print('Accuracy = %.2f'%(1-mae))"
   ]
  },
  {
   "cell_type": "code",
   "execution_count": null,
   "id": "f7eeaa21",
   "metadata": {},
   "outputs": [],
   "source": []
  }
 ],
 "metadata": {
  "kernelspec": {
   "display_name": "Python 3",
   "language": "python",
   "name": "python3"
  },
  "language_info": {
   "codemirror_mode": {
    "name": "ipython",
    "version": 3
   },
   "file_extension": ".py",
   "mimetype": "text/x-python",
   "name": "python",
   "nbconvert_exporter": "python",
   "pygments_lexer": "ipython3",
   "version": "3.8.8"
  }
 },
 "nbformat": 4,
 "nbformat_minor": 5
}
